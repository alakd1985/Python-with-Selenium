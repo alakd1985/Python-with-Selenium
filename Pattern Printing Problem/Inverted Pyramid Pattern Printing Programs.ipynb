{
 "cells": [
  {
   "cell_type": "code",
   "execution_count": 1,
   "metadata": {},
   "outputs": [
    {
     "name": "stdout",
     "output_type": "stream",
     "text": [
      "Enter the number of rows::5\n",
      "* * * * * \n",
      " * * * * \n",
      "  * * * \n",
      "   * * \n",
      "    * \n"
     ]
    }
   ],
   "source": [
    "#Pattern-36: To print Inverted Pyramid Pattern with * symbols\n",
    "n = int(input('Enter the number of rows::'))\n",
    "for i in range(n):\n",
    "    print(' '* i + '* ' * (n-i))"
   ]
  },
  {
   "cell_type": "code",
   "execution_count": 2,
   "metadata": {},
   "outputs": [
    {
     "name": "stdout",
     "output_type": "stream",
     "text": [
      "Enter the number of rows::5\n",
      "1 1 1 1 1 \n",
      " 2 2 2 2 \n",
      "  3 3 3 \n",
      "   4 4 \n",
      "    5 \n"
     ]
    }
   ],
   "source": [
    "#Pattern-37: To print Inverted Pyramid Pattern with fixed digit in every row\n",
    "n = int(input('Enter the number of rows::'))\n",
    "for i in range(n):\n",
    "    print(' '* i + (str(i+1)+' ') * (n-i))"
   ]
  },
  {
   "cell_type": "code",
   "execution_count": 3,
   "metadata": {},
   "outputs": [
    {
     "name": "stdout",
     "output_type": "stream",
     "text": [
      "Enter the number of rows::5\n",
      "A A A A A \n",
      " B B B B \n",
      "  C C C \n",
      "   D D \n",
      "    E \n"
     ]
    }
   ],
   "source": [
    "#Pattern-38: To print Inverted Pyramid Pattern with fixed alphabet symbol in every row\n",
    "n = int(input('Enter the number of rows::'))\n",
    "for i in range(n):\n",
    "    print(' '* i + (chr(65+i)+' ') * (n-i))"
   ]
  },
  {
   "cell_type": "code",
   "execution_count": 4,
   "metadata": {},
   "outputs": [
    {
     "name": "stdout",
     "output_type": "stream",
     "text": [
      "Enter the number of rows::5\n",
      " 1 2 3 4 5 \n",
      "  1 2 3 4 \n",
      "   1 2 3 \n",
      "    1 2 \n",
      "     1 \n"
     ]
    }
   ],
   "source": [
    "#Pattern-39: To print Inverted Pyramid Pattern with digits in ascending order in every row\n",
    "n = int(input('Enter the number of rows::'))\n",
    "for i in range(n):\n",
    "    print(' '*i, end=' ')\n",
    "    for j in range(n-i):\n",
    "        print(j+1, end=' ')\n",
    "    print()"
   ]
  },
  {
   "cell_type": "code",
   "execution_count": 6,
   "metadata": {},
   "outputs": [
    {
     "name": "stdout",
     "output_type": "stream",
     "text": [
      "Enter the number of rows::5\n",
      " A B C D E \n",
      "  A B C D \n",
      "   A B C \n",
      "    A B \n",
      "     A \n"
     ]
    }
   ],
   "source": [
    "#Pattern-40:To print Inverted Pyramid Pattern with alphabet symbols in dictionary order in every row\n",
    "n = int(input('Enter the number of rows::'))\n",
    "for i in range(n):\n",
    "    print(' '*i, end=' ')\n",
    "    for j in range(n-i):\n",
    "        print(chr(65+j), end=' ')\n",
    "    print()"
   ]
  },
  {
   "cell_type": "code",
   "execution_count": 8,
   "metadata": {},
   "outputs": [
    {
     "name": "stdout",
     "output_type": "stream",
     "text": [
      "Enter the number of rows::5\n",
      " 5 4 3 2 1 \n",
      "  5 4 3 2 \n",
      "   5 4 3 \n",
      "    5 4 \n",
      "     5 \n"
     ]
    }
   ],
   "source": [
    "#Pattern-41:To print Inverted Pyramid Pattern with digits in descending order in every row\n",
    "n = int(input('Enter the number of rows::'))\n",
    "for i in range(n):\n",
    "    print(' '*i, end=' ')\n",
    "    for j in range(n-i):\n",
    "        print(n-j, end=' ')\n",
    "    print()"
   ]
  },
  {
   "cell_type": "code",
   "execution_count": 9,
   "metadata": {},
   "outputs": [
    {
     "name": "stdout",
     "output_type": "stream",
     "text": [
      "Enter the number of rows::6\n",
      " F E D C B A \n",
      "  F E D C B \n",
      "   F E D C \n",
      "    F E D \n",
      "     F E \n",
      "      F \n"
     ]
    }
   ],
   "source": [
    "#Pattern-42:To print Inverted Pyramid Pattern with alphabet symbols in reverse of dictionary order in every row\n",
    "n = int(input('Enter the number of rows::'))\n",
    "for i in range(n):\n",
    "    print(' '*i, end=' ')\n",
    "    for j in range(n-i):\n",
    "        print(chr(64+n-j), end=' ')\n",
    "    print()"
   ]
  },
  {
   "cell_type": "code",
   "execution_count": null,
   "metadata": {},
   "outputs": [],
   "source": []
  }
 ],
 "metadata": {
  "kernelspec": {
   "display_name": "Python 3",
   "language": "python",
   "name": "python3"
  },
  "language_info": {
   "codemirror_mode": {
    "name": "ipython",
    "version": 3
   },
   "file_extension": ".py",
   "mimetype": "text/x-python",
   "name": "python",
   "nbconvert_exporter": "python",
   "pygments_lexer": "ipython3",
   "version": "3.7.1rc2"
  }
 },
 "nbformat": 4,
 "nbformat_minor": 2
}
