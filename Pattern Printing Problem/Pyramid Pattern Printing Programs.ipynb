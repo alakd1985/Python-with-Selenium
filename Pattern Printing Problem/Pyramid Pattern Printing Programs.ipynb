{
 "cells": [
  {
   "cell_type": "code",
   "execution_count": 2,
   "metadata": {},
   "outputs": [
    {
     "name": "stdout",
     "output_type": "stream",
     "text": [
      "Enter the number of rows::6\n",
      "     * \n",
      "    * * \n",
      "   * * * \n",
      "  * * * * \n",
      " * * * * * \n",
      "* * * * * * \n"
     ]
    }
   ],
   "source": [
    "#Pattern-29: To print Pyramid pattern with * symbols\n",
    "n = int(input('Enter the number of rows::'))\n",
    "for i in range(n):\n",
    "    print(' '* (n-i-1) + '* ' * (i+1))"
   ]
  },
  {
   "cell_type": "code",
   "execution_count": 5,
   "metadata": {},
   "outputs": [
    {
     "name": "stdout",
     "output_type": "stream",
     "text": [
      "Enter the number of rows::5\n",
      "    1 \n",
      "   2 2 \n",
      "  3 3 3 \n",
      " 4 4 4 4 \n",
      "5 5 5 5 5 \n"
     ]
    }
   ],
   "source": [
    "#Pattern-30: To print Pyramid pattern with fixed digit in every row\n",
    "# how many spaces? (n-i-1)\n",
    "# How many symbols? (i+1)\n",
    "# How many times printing? (i+1)\n",
    "# why do use str? converting number into string\n",
    "n = int(input('Enter the number of rows::'))\n",
    "for i in range(n):\n",
    "    print(' '* (n-i-1) + (str(i+1)+' ') * (i+1))\n"
   ]
  },
  {
   "cell_type": "code",
   "execution_count": 6,
   "metadata": {},
   "outputs": [
    {
     "name": "stdout",
     "output_type": "stream",
     "text": [
      "Enter the number of rows::6\n",
      "     A \n",
      "    B B \n",
      "   C C C \n",
      "  D D D D \n",
      " E E E E E \n",
      "F F F F F F \n"
     ]
    }
   ],
   "source": [
    "# Pattern-31: To print Pyramid pattern with fixed alphabet symbol in every row\n",
    "n = int(input('Enter the number of rows::'))\n",
    "for i in range(n):\n",
    "    print(' '* (n-i-1) + (chr(65+i)+' ') * (i+1))"
   ]
  },
  {
   "cell_type": "code",
   "execution_count": 8,
   "metadata": {},
   "outputs": [
    {
     "name": "stdout",
     "output_type": "stream",
     "text": [
      "Enter the number of rows::5\n",
      "     1 \n",
      "    1 2 \n",
      "   1 2 3 \n",
      "  1 2 3 4 \n",
      " 1 2 3 4 5 \n"
     ]
    }
   ],
   "source": [
    "#Pattern-32: To print Pyramid pattern with digits in ascending order in every row\n",
    "n = int(input('Enter the number of rows::'))\n",
    "for i in range(n):\n",
    "    print(' '* (n-i-1), end=' ')\n",
    "    for j in range(i+1):\n",
    "        print(j+1, end=' ')\n",
    "    print()"
   ]
  },
  {
   "cell_type": "code",
   "execution_count": 9,
   "metadata": {},
   "outputs": [
    {
     "name": "stdout",
     "output_type": "stream",
     "text": [
      "Enter the number of rows::5\n",
      "     A \n",
      "    A B \n",
      "   A B C \n",
      "  A B C D \n",
      " A B C D E \n"
     ]
    }
   ],
   "source": [
    "#Pattern-33:To print Pyramid pattern with alphabet symbols in dictionary order in every row\n",
    "n = int(input('Enter the number of rows::'))\n",
    "for i in range(n):\n",
    "    print(' '* (n-i-1), end=' ')\n",
    "    for j in range(i+1):\n",
    "        print(chr(65+j), end=' ')\n",
    "    print()"
   ]
  },
  {
   "cell_type": "code",
   "execution_count": 10,
   "metadata": {},
   "outputs": [
    {
     "name": "stdout",
     "output_type": "stream",
     "text": [
      "Enter the number of rows::6\n",
      "      6 \n",
      "     6 5 \n",
      "    6 5 4 \n",
      "   6 5 4 3 \n",
      "  6 5 4 3 2 \n",
      " 6 5 4 3 2 1 \n"
     ]
    }
   ],
   "source": [
    "#Pattern-34:To print Pyramid pattern with digits in descending order in every row\n",
    "n = int(input('Enter the number of rows::'))\n",
    "for i in range(n):\n",
    "    print(' '* (n-i-1), end=' ')\n",
    "    for j in range(i+1):\n",
    "        print(n-j, end=' ')\n",
    "    print()"
   ]
  },
  {
   "cell_type": "code",
   "execution_count": 11,
   "metadata": {},
   "outputs": [
    {
     "name": "stdout",
     "output_type": "stream",
     "text": [
      "Enter the number of rows::6\n",
      "      F \n",
      "     F E \n",
      "    F E D \n",
      "   F E D C \n",
      "  F E D C B \n",
      " F E D C B A \n"
     ]
    }
   ],
   "source": [
    "#Pattern-35:To print Pyramid pattern with alphabet symbols in reverse of dictionary order in every row\n",
    "n = int(input('Enter the number of rows::'))\n",
    "for i in range(n):\n",
    "    print(' '* (n-i-1), end=' ')\n",
    "    for j in range(i+1):\n",
    "        print(chr(64+n-j), end=' ')\n",
    "    print()"
   ]
  },
  {
   "cell_type": "code",
   "execution_count": null,
   "metadata": {},
   "outputs": [],
   "source": []
  }
 ],
 "metadata": {
  "kernelspec": {
   "display_name": "Python 3",
   "language": "python",
   "name": "python3"
  },
  "language_info": {
   "codemirror_mode": {
    "name": "ipython",
    "version": 3
   },
   "file_extension": ".py",
   "mimetype": "text/x-python",
   "name": "python",
   "nbconvert_exporter": "python",
   "pygments_lexer": "ipython3",
   "version": "3.7.1rc2"
  }
 },
 "nbformat": 4,
 "nbformat_minor": 2
}
