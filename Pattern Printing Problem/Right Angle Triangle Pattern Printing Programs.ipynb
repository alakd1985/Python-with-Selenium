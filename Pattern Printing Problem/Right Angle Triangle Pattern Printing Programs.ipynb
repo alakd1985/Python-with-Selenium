{
 "cells": [
  {
   "cell_type": "code",
   "execution_count": 3,
   "metadata": {},
   "outputs": [
    {
     "name": "stdout",
     "output_type": "stream",
     "text": [
      "Enter the number of rows::5\n",
      "* \n",
      "* * \n",
      "* * * \n",
      "* * * * \n",
      "* * * * * \n"
     ]
    }
   ],
   "source": [
    "#Pattern-13: To print Right Angle Triangle pattern with * symbols\n",
    "n = int(input('Enter the number of rows::'))\n",
    "for i in range(n):\n",
    "    for j in range(i+1):\n",
    "        print('*', end=' ')\n",
    "    print()"
   ]
  },
  {
   "cell_type": "code",
   "execution_count": 1,
   "metadata": {},
   "outputs": [
    {
     "name": "stdout",
     "output_type": "stream",
     "text": [
      "Enter the number of rows::5\n",
      "1\n",
      "22\n",
      "333\n",
      "4444\n",
      "55555\n"
     ]
    }
   ],
   "source": [
    "#Pattern-14: To print Right Angle Triangle pattern with fixed digit in every row\n",
    "n = int(input('Enter the number of rows::'))\n",
    "for i in range(n):\n",
    "    print((str(i+1) + ' ') * (i+1)) # here n = number of times numbers will be printed; str(n) here n is converted to string and \n",
    "    #added the space after that\n",
    "    "
   ]
  },
  {
   "cell_type": "code",
   "execution_count": 2,
   "metadata": {},
   "outputs": [
    {
     "name": "stdout",
     "output_type": "stream",
     "text": [
      "Enter the number of rows::6\n",
      "A \n",
      "B B \n",
      "C C C \n",
      "D D D D \n",
      "E E E E E \n",
      "F F F F F F \n"
     ]
    }
   ],
   "source": [
    "#Pattern-15: To print Right Angle Triangle pattern with fixed alphabet symbol in every row\n",
    "n = int(input('Enter the number of rows::'))\n",
    "for i in range(n):\n",
    "    print((chr(65+i) + ' ') * (i+1)) # here n = number of times numbers will be printed; str(n) here n is converted to string and \n",
    "    #added the space after that"
   ]
  },
  {
   "cell_type": "code",
   "execution_count": 3,
   "metadata": {},
   "outputs": [
    {
     "name": "stdout",
     "output_type": "stream",
     "text": [
      "Enter the number of rows::6\n",
      "1 \n",
      "1 2 \n",
      "1 2 3 \n",
      "1 2 3 4 \n",
      "1 2 3 4 5 \n",
      "1 2 3 4 5 6 \n"
     ]
    }
   ],
   "source": [
    "#Pattern-16: To print Right Angle Triangle pattern with digits in ascending order in every row\n",
    "n = int(input('Enter the number of rows::'))\n",
    "for i in range(n):\n",
    "    for j in range(i+1):\n",
    "        print(j+1, end=' ')\n",
    "    print()"
   ]
  },
  {
   "cell_type": "code",
   "execution_count": 4,
   "metadata": {},
   "outputs": [
    {
     "name": "stdout",
     "output_type": "stream",
     "text": [
      "Enter the number of rows::6\n",
      "A \n",
      "A B \n",
      "A B C \n",
      "A B C D \n",
      "A B C D E \n",
      "A B C D E F \n"
     ]
    }
   ],
   "source": [
    "#Pattern-17: To print Right Angle Triangle pattern with alphabet symbols in dictionary order in every row\n",
    "n = int(input('Enter the number of rows::'))\n",
    "for i in range(n):\n",
    "    for j in range(i+1):\n",
    "        print(chr(65+j), end=' ')\n",
    "    print()"
   ]
  },
  {
   "cell_type": "code",
   "execution_count": 6,
   "metadata": {},
   "outputs": [
    {
     "name": "stdout",
     "output_type": "stream",
     "text": [
      "Enter the number of rows::6\n",
      "6 \n",
      "6 5 \n",
      "6 5 4 \n",
      "6 5 4 3 \n",
      "6 5 4 3 2 \n",
      "6 5 4 3 2 1 \n"
     ]
    }
   ],
   "source": [
    "#Pattern-18: To print Right Angle Triangle pattern with digits in descending order in every row\n",
    "n = int(input('Enter the number of rows::'))\n",
    "for i in range(n):\n",
    "    for j in range(i+1):\n",
    "        print(n-j, end=' ')\n",
    "    print()"
   ]
  },
  {
   "cell_type": "code",
   "execution_count": 8,
   "metadata": {},
   "outputs": [
    {
     "name": "stdout",
     "output_type": "stream",
     "text": [
      "Enter the number of rows::6\n",
      "F \n",
      "F E \n",
      "F E D \n",
      "F E D C \n",
      "F E D C B \n",
      "F E D C B A \n"
     ]
    }
   ],
   "source": [
    "#Pattern-19: To print Right Angle Triangle pattern with alphabet symbols in reverse of dictionary order in every row\n",
    "n = int(input('Enter the number of rows::'))\n",
    "for i in range(n):\n",
    "    for j in range(i+1):\n",
    "        print(chr(64+n-j), end=' ')\n",
    "    print()"
   ]
  },
  {
   "cell_type": "code",
   "execution_count": null,
   "metadata": {},
   "outputs": [],
   "source": []
  }
 ],
 "metadata": {
  "kernelspec": {
   "display_name": "Python 3",
   "language": "python",
   "name": "python3"
  },
  "language_info": {
   "codemirror_mode": {
    "name": "ipython",
    "version": 3
   },
   "file_extension": ".py",
   "mimetype": "text/x-python",
   "name": "python",
   "nbconvert_exporter": "python",
   "pygments_lexer": "ipython3",
   "version": "3.7.1rc2"
  }
 },
 "nbformat": 4,
 "nbformat_minor": 2
}
