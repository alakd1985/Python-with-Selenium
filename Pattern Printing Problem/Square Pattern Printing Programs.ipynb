{
 "cells": [
  {
   "cell_type": "code",
   "execution_count": 1,
   "metadata": {},
   "outputs": [
    {
     "name": "stdout",
     "output_type": "stream",
     "text": [
      "Enter the number of rows: 5\n",
      "* * * * * "
     ]
    }
   ],
   "source": [
    "#Pattern-1: To print given number of *s in a row\n",
    "n = int(input('Enter the number of rows: '))\n",
    "for i in range(n): # here n = number of times stars will be printed\n",
    "    print('*', end=' ')\n",
    "    "
   ]
  },
  {
   "cell_type": "code",
   "execution_count": 2,
   "metadata": {},
   "outputs": [
    {
     "name": "stdout",
     "output_type": "stream",
     "text": [
      "Enter the number of rows: 5\n",
      "* * * * * \n",
      "* * * * * \n",
      "* * * * * \n",
      "* * * * * \n",
      "* * * * * \n"
     ]
    }
   ],
   "source": [
    "#Pattern-2: To print square pattern with * symbols\n",
    "n = int(input('Enter the number of rows: '))\n",
    "for i in range(n): # here n = number of times stars will be printed\n",
    "    print('* ' * n)"
   ]
  },
  {
   "cell_type": "code",
   "execution_count": 3,
   "metadata": {},
   "outputs": [
    {
     "name": "stdout",
     "output_type": "stream",
     "text": [
      "Enter the number of rows: 5\n",
      "5 5 5 5 5 \n",
      "5 5 5 5 5 \n",
      "5 5 5 5 5 \n",
      "5 5 5 5 5 \n",
      "5 5 5 5 5 \n"
     ]
    }
   ],
   "source": [
    "#Pattern-3: To print square pattern with provided fixed digit\n",
    "n = int(input('Enter the number of rows: '))\n",
    "for i in range(n):# here n = number of times numbers will be printed; str(n) here n is converted to string and \n",
    "    #added the space after that\n",
    "    print((str(n) + ' ')*n)\n",
    "    "
   ]
  },
  {
   "cell_type": "code",
   "execution_count": 4,
   "metadata": {},
   "outputs": [
    {
     "name": "stdout",
     "output_type": "stream",
     "text": [
      "Enter the number of rows: 5\n",
      "1 1 1 1 1 \n",
      "2 2 2 2 2 \n",
      "3 3 3 3 3 \n",
      "4 4 4 4 4 \n",
      "5 5 5 5 5 \n"
     ]
    }
   ],
   "source": [
    "#Pattern-4: To print square pattern with provided fixed digit in every row\n",
    "n = int(input('Enter the number of rows: '))\n",
    "for i in range(n):# here n = number of times numbers will be printed; str(n) here n is converted to string and \n",
    "    #added the space after that\n",
    "    print((str(i+1) + ' ')*n)"
   ]
  },
  {
   "cell_type": "code",
   "execution_count": 5,
   "metadata": {},
   "outputs": [
    {
     "name": "stdout",
     "output_type": "stream",
     "text": [
      "Enter the number of rows: 5\n",
      "A A A A A \n",
      "A A A A A \n",
      "A A A A A \n",
      "A A A A A \n",
      "A A A A A \n"
     ]
    }
   ],
   "source": [
    "#Pattern-5: To print square pattern with fixed alphabet symbol\n",
    "n = int(input('Enter the number of rows: '))\n",
    "for i in range(n): # here n = number of times stars will be printed\n",
    "    print('A ' * n)"
   ]
  },
  {
   "cell_type": "code",
   "execution_count": 6,
   "metadata": {},
   "outputs": [
    {
     "name": "stdout",
     "output_type": "stream",
     "text": [
      "Enter the number of rows: 6\n",
      "A A A A A A \n",
      "B B B B B B \n",
      "C C C C C C \n",
      "D D D D D D \n",
      "E E E E E E \n",
      "F F F F F F \n"
     ]
    }
   ],
   "source": [
    "# Pattern-6:To print square pattern with different alphabet symbol\n",
    "n = int(input('Enter the number of rows: '))\n",
    "for i in range(n): # here n = number of times stars will be printed\n",
    "    print((chr(65+i)+ ' ')*n) # 65 = A"
   ]
  },
  {
   "cell_type": "code",
   "execution_count": 9,
   "metadata": {},
   "outputs": [
    {
     "name": "stdout",
     "output_type": "stream",
     "text": [
      "Enter the number of rows: 6\n",
      "1 2 3 4 5 6 \n",
      "1 2 3 4 5 6 \n",
      "1 2 3 4 5 6 \n",
      "1 2 3 4 5 6 \n",
      "1 2 3 4 5 6 \n",
      "1 2 3 4 5 6 \n"
     ]
    }
   ],
   "source": [
    "#Pattern-7: To print square pattern with digits\n",
    "n = int(input('Enter the number of rows: '))\n",
    "for i in range(n):# n= 0,1,2,3,4,5\n",
    "    for j in range(n): # for every value of i, j value will be 0,1,2,3,4,5\n",
    "        print(str(j+1), end=' ')\n",
    "    print()"
   ]
  },
  {
   "cell_type": "code",
   "execution_count": 11,
   "metadata": {},
   "outputs": [
    {
     "name": "stdout",
     "output_type": "stream",
     "text": [
      "Enter the number of rows: 5\n",
      "A B C D E \n",
      "A B C D E \n",
      "A B C D E \n",
      "A B C D E \n",
      "A B C D E \n"
     ]
    }
   ],
   "source": [
    "#Pattern-8: To print square pattern with alphabet symbols in dictionary order\n",
    "n = int(input('Enter the number of rows: '))\n",
    "for i in range(n):\n",
    "    for j in range(n): # 65 = A\n",
    "        print(chr(65+j), end=' ')\n",
    "    print()\n"
   ]
  },
  {
   "cell_type": "code",
   "execution_count": 12,
   "metadata": {},
   "outputs": [
    {
     "name": "stdout",
     "output_type": "stream",
     "text": [
      "Enter the number of rows: 4\n",
      "4 4 4 4 \n",
      "3 3 3 3 \n",
      "2 2 2 2 \n",
      "1 1 1 1 \n"
     ]
    }
   ],
   "source": [
    "#Pattern-9: To print square pattern with digits in descending order\n",
    "n = int(input('Enter the number of rows: '))\n",
    "for i in range(n):\n",
    "    print((str(n-i)+' ')*n)"
   ]
  },
  {
   "cell_type": "code",
   "execution_count": 14,
   "metadata": {},
   "outputs": [
    {
     "name": "stdout",
     "output_type": "stream",
     "text": [
      "Enter the number of rows: 5\n",
      "E E E E E \n",
      "D D D D D \n",
      "C C C C C \n",
      "B B B B B \n",
      "A A A A A \n"
     ]
    }
   ],
   "source": [
    "#Pattern-10: To print square pattern with alphabets in reverse of dictionary order\n",
    "n = int(input('Enter the number of rows: '))\n",
    "for i in range(n):\n",
    "    print((chr(64-i+n)+' ')* n)"
   ]
  },
  {
   "cell_type": "code",
   "execution_count": 15,
   "metadata": {},
   "outputs": [
    {
     "name": "stdout",
     "output_type": "stream",
     "text": [
      "Enter the number of rows: 5\n",
      "5 4 3 2 1 \n",
      "5 4 3 2 1 \n",
      "5 4 3 2 1 \n",
      "5 4 3 2 1 \n",
      "5 4 3 2 1 \n"
     ]
    }
   ],
   "source": [
    "#Pattern-11: To print square pattern with digits in descending order\n",
    "n = int(input('Enter the number of rows: '))\n",
    "for i in range(n):\n",
    "    for j in range(n):\n",
    "        print(n-j, end=' ')\n",
    "    print()"
   ]
  },
  {
   "cell_type": "code",
   "execution_count": 16,
   "metadata": {},
   "outputs": [
    {
     "name": "stdout",
     "output_type": "stream",
     "text": [
      "Enter the number of rows: 5\n",
      "E D C B A \n",
      "E D C B A \n",
      "E D C B A \n",
      "E D C B A \n",
      "E D C B A \n"
     ]
    }
   ],
   "source": [
    "#Pattern-12: To print square pattern with alphabets in reverse of dictionary order\n",
    "n = int(input('Enter the number of rows: '))\n",
    "for i in range(n):\n",
    "    for j in range(n):\n",
    "        print(chr(64+n-j),end=' ')\n",
    "    print()\n",
    "    "
   ]
  }
 ],
 "metadata": {
  "kernelspec": {
   "display_name": "Python 3",
   "language": "python",
   "name": "python3"
  },
  "language_info": {
   "codemirror_mode": {
    "name": "ipython",
    "version": 3
   },
   "file_extension": ".py",
   "mimetype": "text/x-python",
   "name": "python",
   "nbconvert_exporter": "python",
   "pygments_lexer": "ipython3",
   "version": "3.7.1rc2"
  }
 },
 "nbformat": 4,
 "nbformat_minor": 2
}
